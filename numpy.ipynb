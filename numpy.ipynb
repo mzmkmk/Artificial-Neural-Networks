{
 "cells": [
  {
   "cell_type": "code",
   "execution_count": 2,
   "metadata": {},
   "outputs": [],
   "source": [
    "import numpy as np"
   ]
  },
  {
   "cell_type": "code",
   "execution_count": 3,
   "metadata": {},
   "outputs": [
    {
     "name": "stdout",
     "output_type": "stream",
     "text": [
      "[[1 2 3]\n",
      " [2 3 4]]\n",
      "(2, 3)\n",
      "6\n"
     ]
    }
   ],
   "source": [
    "array = np.array([[1,2,3],\n",
    "           [2,3,4]])\n",
    "\n",
    "print(array)\n",
    "print(array.shape)\n",
    "print(array.size)"
   ]
  },
  {
   "cell_type": "code",
   "execution_count": 4,
   "metadata": {},
   "outputs": [
    {
     "name": "stdout",
     "output_type": "stream",
     "text": [
      "float64\n"
     ]
    }
   ],
   "source": [
    "a = np.array([2,23,4],dtype=np.float64)\n",
    "print(a.dtype)"
   ]
  },
  {
   "cell_type": "code",
   "execution_count": 7,
   "metadata": {},
   "outputs": [
    {
     "name": "stdout",
     "output_type": "stream",
     "text": [
      "[[0. 0. 0. 0.]]\n",
      "0.0\n"
     ]
    }
   ],
   "source": [
    "b = np.zeros((1,4))\n",
    "print(b)\n",
    "print(b[0,1])"
   ]
  },
  {
   "cell_type": "code",
   "execution_count": 6,
   "metadata": {},
   "outputs": [
    {
     "name": "stdout",
     "output_type": "stream",
     "text": [
      "[[1 1 1 1]\n",
      " [1 1 1 1]\n",
      " [1 1 1 1]]\n"
     ]
    }
   ],
   "source": [
    "c = np.ones((3,4),dtype=np.int16)\n",
    "print(c)"
   ]
  },
  {
   "cell_type": "code",
   "execution_count": 7,
   "metadata": {},
   "outputs": [
    {
     "name": "stdout",
     "output_type": "stream",
     "text": [
      "[[0. 0. 0. 0.]\n",
      " [0. 0. 0. 0.]\n",
      " [0. 0. 0. 0.]]\n"
     ]
    }
   ],
   "source": [
    "d = np.empty((3,4))\n",
    "print(d)"
   ]
  },
  {
   "cell_type": "code",
   "execution_count": 8,
   "metadata": {},
   "outputs": [
    {
     "name": "stdout",
     "output_type": "stream",
     "text": [
      "[10 12 14 16 18]\n"
     ]
    }
   ],
   "source": [
    "e = np.arange(10,20,2)\n",
    "print(e)"
   ]
  },
  {
   "cell_type": "code",
   "execution_count": 30,
   "metadata": {},
   "outputs": [
    {
     "name": "stdout",
     "output_type": "stream",
     "text": [
      "[[ 0  1  2  3]\n",
      " [ 4  5  6  7]\n",
      " [ 8  9 10 11]]\n"
     ]
    }
   ],
   "source": [
    "f = np.arange(12).reshape((3,4))\n",
    "print(f)"
   ]
  },
  {
   "cell_type": "code",
   "execution_count": 33,
   "metadata": {},
   "outputs": [
    {
     "name": "stdout",
     "output_type": "stream",
     "text": [
      "[[ 1.   2.8  4.6]\n",
      " [ 6.4  8.2 10. ]]\n"
     ]
    }
   ],
   "source": [
    "g = np.linspace(1,10,6).reshape((2,3))\n",
    "print(g)"
   ]
  },
  {
   "cell_type": "code",
   "execution_count": 36,
   "metadata": {},
   "outputs": [
    {
     "name": "stdout",
     "output_type": "stream",
     "text": [
      "[10 19 28 37]\n",
      "[0 1 4 9]\n",
      "[-5.44021111  9.12945251 -9.88031624  7.4511316 ]\n"
     ]
    }
   ],
   "source": [
    "h = np.array([10,20,30,40])\n",
    "i = np.arange(4)\n",
    "j = h-i\n",
    "k = i**2\n",
    "l = 10*np.sin(h)\n",
    "print(j)\n",
    "print(k)\n",
    "print(l)"
   ]
  },
  {
   "cell_type": "code",
   "execution_count": 42,
   "metadata": {},
   "outputs": [
    {
     "name": "stdout",
     "output_type": "stream",
     "text": [
      "[[1 1]\n",
      " [0 1]]\n",
      "[[0 1]\n",
      " [2 3]]\n",
      "[[0 1]\n",
      " [0 3]]\n",
      "[[2 4]\n",
      " [2 3]]\n",
      "[[2 4]\n",
      " [2 3]]\n"
     ]
    }
   ],
   "source": [
    "m =  np.array([[1,1],\n",
    "             [0,1]])\n",
    "n = np.arange(4).reshape((2,2))\n",
    "print(m)\n",
    "print(n)\n",
    "o = m*n\n",
    "o_dot = np.dot(m,n)\n",
    "o_dot_2 = m.dot(n)\n",
    "print(o)\n",
    "print(o_dot)\n",
    "print(o_dot_2)"
   ]
  },
  {
   "cell_type": "code",
   "execution_count": 46,
   "metadata": {},
   "outputs": [
    {
     "name": "stdout",
     "output_type": "stream",
     "text": [
      "[[0.04969727 0.56373745 0.36352582 0.22656967]\n",
      " [0.73911398 0.08500196 0.39193907 0.26675609]]\n",
      "2.6863413188356042\n",
      "0.0496972713349243\n",
      "0.7391139813701899\n",
      "[1.20353021 1.48281111]\n",
      "[0.04969727 0.08500196 0.36352582 0.22656967]\n",
      "[0.56373745 0.73911398]\n"
     ]
    }
   ],
   "source": [
    "p = np.random.random((2,4))\n",
    "print(p)\n",
    "print(np.sum(p))\n",
    "print(np.min(p))\n",
    "print(np.max(p))\n",
    "print(np.sum(p,axis=1))\n",
    "print(np.min(p,axis=0))\n",
    "print(np.max(p,axis=1))"
   ]
  },
  {
   "cell_type": "code",
   "execution_count": 25,
   "metadata": {},
   "outputs": [
    {
     "name": "stdout",
     "output_type": "stream",
     "text": [
      "[[ 2  3  4  5]\n",
      " [ 6  7  8  9]\n",
      " [10 11 12 13]]\n",
      "0\n",
      "11\n",
      "7.5\n",
      "7.5\n",
      "7.5\n",
      "7.5\n",
      "[ 2  5  9 14 20 27 35 44 54 65 77 90]\n",
      "[[1 1 1]\n",
      " [1 1 1]\n",
      " [1 1 1]]\n",
      "[[ 2  3  4  5]\n",
      " [ 6  7  8  9]\n",
      " [10 11 12 13]]\n",
      "[[ 2  6 10]\n",
      " [ 3  7 11]\n",
      " [ 4  8 12]\n",
      " [ 5  9 13]]\n",
      "[[ 2  6 10]\n",
      " [ 3  7 11]\n",
      " [ 4  8 12]\n",
      " [ 5  9 13]]\n",
      "[[140 158 176 194]\n",
      " [158 179 200 221]\n",
      " [176 200 224 248]\n",
      " [194 221 248 275]]\n",
      "[[5 5 5 5]\n",
      " [6 7 8 9]\n",
      " [9 9 9 9]]\n",
      "[ 3.5  7.5 11.5]\n",
      "[6. 7. 8. 9.]\n"
     ]
    }
   ],
   "source": [
    "A = np.arange(2,14).reshape((3,4))\n",
    "print(A)\n",
    "print(np.argmin(A))\n",
    "print(np.argmax(A))\n",
    "print(np.mean(A))\n",
    "print(A.mean())\n",
    "print(np.average(A))\n",
    "print(np.median(A))\n",
    "print(np.cumsum(A))\n",
    "print(np.diff(A))\n",
    "print(np.sort(A))\n",
    "print(np.transpose(A))\n",
    "print(A.T)\n",
    "print((A.T).dot(A))\n",
    "print(np.clip(A,5,9))\n",
    "print(np.mean(A,axis=1))\n",
    "print(np.mean(A,axis=0))"
   ]
  },
  {
   "cell_type": "code",
   "execution_count": 17,
   "metadata": {},
   "outputs": [
    {
     "name": "stdout",
     "output_type": "stream",
     "text": [
      "[[ 3  4  5  6]\n",
      " [ 7  8  9 10]\n",
      " [11 12 13 14]]\n",
      "[11 12 13 14]\n",
      "12\n",
      "12\n",
      "[11 12 13 14]\n",
      "[ 5  9 13]\n",
      "[8 9]\n",
      "[3 4 5 6]\n",
      "[ 7  8  9 10]\n",
      "[11 12 13 14]\n",
      "[ 3  7 11]\n",
      "[ 4  8 12]\n",
      "[ 5  9 13]\n",
      "[ 6 10 14]\n",
      "[ 3  4  5  6  7  8  9 10 11 12 13 14]\n",
      "3\n",
      "4\n",
      "5\n",
      "6\n",
      "7\n",
      "8\n",
      "9\n",
      "10\n",
      "11\n",
      "12\n",
      "13\n",
      "14\n"
     ]
    }
   ],
   "source": [
    "B = np.arange(3,15).reshape((3,4))\n",
    "print(B)\n",
    "print(B[2])\n",
    "print(B[2][1])\n",
    "print(B[2,1])\n",
    "print(B[2,:])\n",
    "print(B[:,2])\n",
    "print(B[1,1:3])\n",
    "for row in B:\n",
    "    print(row)\n",
    "for column in B.T:\n",
    "    print(column)\n",
    "print(B.flatten())\n",
    "for item in B.flat:\n",
    "    print(item)"
   ]
  },
  {
   "cell_type": "code",
   "execution_count": 22,
   "metadata": {},
   "outputs": [
    {
     "name": "stdout",
     "output_type": "stream",
     "text": [
      "(2, 3)\n",
      "[1 1 1 2 2 2]\n",
      "[1 1 1]\n"
     ]
    }
   ],
   "source": [
    "C = np.array([1,1,1])\n",
    "D = np.array([2,2,2])\n",
    "E = np.vstack((C,D)) #vertical stack\n",
    "F = np.hstack((C,D)) #horizontal stack\n",
    "print(E.shape)\n",
    "print(F)\n",
    "print(C.T)"
   ]
  },
  {
   "cell_type": "code",
   "execution_count": 28,
   "metadata": {},
   "outputs": [
    {
     "name": "stdout",
     "output_type": "stream",
     "text": [
      "[[1]\n",
      " [1]\n",
      " [1]]\n",
      "(6, 1)\n",
      "(3, 2)\n"
     ]
    }
   ],
   "source": [
    "G = C[:,np.newaxis]\n",
    "H = D[:,np.newaxis]\n",
    "print(G)\n",
    "I = np.vstack((G,H))\n",
    "J = np.hstack((G,H))\n",
    "print(I.shape)\n",
    "print(J.shape)"
   ]
  },
  {
   "cell_type": "code",
   "execution_count": 29,
   "metadata": {},
   "outputs": [
    {
     "name": "stdout",
     "output_type": "stream",
     "text": [
      "[[1]\n",
      " [1]\n",
      " [1]\n",
      " [2]\n",
      " [2]\n",
      " [2]]\n",
      "[[1 2]\n",
      " [1 2]\n",
      " [1 2]]\n"
     ]
    }
   ],
   "source": [
    "L = np.concatenate((G,H),axis=0)\n",
    "M = np.concatenate((G,H),axis=1)\n",
    "print(L)\n",
    "print(M)"
   ]
  },
  {
   "cell_type": "code",
   "execution_count": 34,
   "metadata": {},
   "outputs": [
    {
     "name": "stdout",
     "output_type": "stream",
     "text": [
      "[[ 0  1  2  3]\n",
      " [ 4  5  6  7]\n",
      " [ 8  9 10 11]]\n",
      "[array([[0, 1],\n",
      "       [4, 5],\n",
      "       [8, 9]]), array([[ 2,  3],\n",
      "       [ 6,  7],\n",
      "       [10, 11]])]\n",
      "[array([[0, 1, 2, 3]]), array([[4, 5, 6, 7]]), array([[ 8,  9, 10, 11]])]\n",
      "[array([[0, 1],\n",
      "       [4, 5],\n",
      "       [8, 9]]), array([[ 2],\n",
      "       [ 6],\n",
      "       [10]]), array([[ 3],\n",
      "       [ 7],\n",
      "       [11]])]\n",
      "[array([[0, 1, 2, 3]]), array([[4, 5, 6, 7]]), array([[ 8,  9, 10, 11]])]\n",
      "[array([[0, 1],\n",
      "       [4, 5],\n",
      "       [8, 9]]), array([[ 2,  3],\n",
      "       [ 6,  7],\n",
      "       [10, 11]])]\n"
     ]
    }
   ],
   "source": [
    "N = np.arange(12).reshape((3,4))\n",
    "print(N)\n",
    "print(np.split(N,2,axis=1))\n",
    "print(np.split(N,3,axis=0))\n",
    "print(np.array_split(N,3,axis=1))\n",
    "print(np.vsplit(N,3))\n",
    "print(np.hsplit(N,2))"
   ]
  },
  {
   "cell_type": "code",
   "execution_count": null,
   "metadata": {},
   "outputs": [],
   "source": []
  }
 ],
 "metadata": {
  "kernelspec": {
   "display_name": "Python 3",
   "language": "python",
   "name": "python3"
  },
  "language_info": {
   "codemirror_mode": {
    "name": "ipython",
    "version": 3
   },
   "file_extension": ".py",
   "mimetype": "text/x-python",
   "name": "python",
   "nbconvert_exporter": "python",
   "pygments_lexer": "ipython3",
   "version": "3.5.5"
  }
 },
 "nbformat": 4,
 "nbformat_minor": 2
}
