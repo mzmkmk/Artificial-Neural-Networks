{
 "cells": [
  {
   "cell_type": "code",
   "execution_count": 1,
   "metadata": {},
   "outputs": [],
   "source": [
    "import numpy as np\n",
    "import matplotlib.pyplot as plt"
   ]
  },
  {
   "cell_type": "code",
   "execution_count": 2,
   "metadata": {},
   "outputs": [
    {
     "name": "stdout",
     "output_type": "stream",
     "text": [
      "[ 7.5        12.         17.5        21.65685425 31.5        34.34846923]\n",
      "[15.69041576 24.        ]\n"
     ]
    }
   ],
   "source": [
    "x = np.array([9,16,25,32,49,54])\n",
    "y = x/2+x**(1/2)\n",
    "X = np.array([22,36])\n",
    "Y = X/2+X**(1/2)\n",
    "print(y)\n",
    "print(Y)\n",
    "# temp=0\n",
    "# print(np.arange(10))\n",
    "# for j in np.arange(0,100):\n",
    "#     if(temp>60):\n",
    "#         print(j)\n",
    "#         break\n",
    "#     else:\n",
    "#         for i in np.arange(0,10):\n",
    "#             temp=temp+i\n",
    "#         print(i)\n",
    "# print(temp)"
   ]
  },
  {
   "cell_type": "code",
   "execution_count": 3,
   "metadata": {},
   "outputs": [],
   "source": [
    "class CPN(object):\n",
    "    #初始化\n",
    "    def __init__(self,delta=7,alpha=0.5,beta=0.5):\n",
    "        self.delta = delta\n",
    "        self.alpha = alpha\n",
    "        self.beta = beta\n",
    "        self.w = []\n",
    "        self.pi = []\n",
    "        self.delta_w = []\n",
    "        self.delta_pi = []\n",
    "        self.temp = 0\n",
    "        \n",
    "        \n",
    "    #隱藏層    \n",
    "    def update(self,x,y):\n",
    "        #暫存值用來儲存前一次規則數\n",
    "        self.temp = len(self.w)\n",
    "        print(self.w)\n",
    "        for i in np.arange(0,6):\n",
    "            #建立第一個規則單元\n",
    "            if(i==0):\n",
    "                self.w.append(x[i])\n",
    "                self.pi.append(y[i])\n",
    "            else:\n",
    "                #權重與輸入x值得最短距離\n",
    "                distance_1 = np.min(abs(self.w-x[i]))\n",
    "                distance_2 = np.min(abs(self.pi-y[i]))\n",
    "                #找出最短距離得權重值的位置\n",
    "                index = np.where(abs(self.w-x[i])==distance_1)[0][0]\n",
    "                if((distance_1<=self.delta)):\n",
    "                    #更新權重值，贏者全拿機制\n",
    "                    self.delta_w.append(self.alpha*(x[i]-self.w[index]))\n",
    "                    self.delta_pi.append(self.beta*(y[i]-self.pi[index]))\n",
    "                    self.w[index] = self.w[index]+self.alpha*(x[i]-self.w[index])\n",
    "                    self.pi[index] = self.pi[index]+self.beta*(y[i]-self.pi[index])\n",
    "                else:\n",
    "                    #否則，建立新的規則單元\n",
    "                    self.w.append(x[i])\n",
    "                    self.pi.append(y[i])\n",
    "    \n",
    "    def train(self,x,y):\n",
    "        self.temp = len(self.w)\n",
    "        print(self.w)\n",
    "        for i in np.arange(0,6):\n",
    "            #權重與輸入x值得最短距離\n",
    "            distance_1 = np.min(abs(self.w-x[i]))\n",
    "            distance_2 = np.min(abs(self.pi-y[i]))\n",
    "            #找出最短距離之權重值得位置\n",
    "            index = np.where(abs(self.w-x[i])==distance_1)[0][0]\n",
    "            if((distance_1<=self.delta)):\n",
    "                #更新權重值，贏者全拿機制\n",
    "                self.delta_w.append(self.alpha*(x[i]-self.w[index]))\n",
    "                self.delta_pi.append(self.beta*(y[i]-self.pi[index]))\n",
    "                self.w[index] = self.w[index]+self.alpha*(x[i]-self.w[index])\n",
    "                self.pi[index] = self.pi[index]+self.beta*(y[i]-self.pi[index])\n",
    "            else:\n",
    "                #否則，建立新的規則單元\n",
    "                self.w.append(x[i])\n",
    "                self.pi.append(y[i])\n",
    "                \n",
    "    #輸出層\n",
    "    def fuzzy(self,x):\n",
    "        for i in np.arange(0,2):\n",
    "            #權重和輸入的距離\n",
    "            d = ((self.w-x[i])**2)**(1/2)\n",
    "            #D表示輸入x和規則單元的相對距離\n",
    "            D = np.zeros((1,len(self.w)))\n",
    "            #S表示相似度\n",
    "            S = np.zeros((1,len(self.w)))\n",
    "            for j in np.arange(0,len(self.w)):\n",
    "                if(d[j]<=20):\n",
    "                    D[0,j] = d[j]/20.0\n",
    "                else:\n",
    "                    D[0,j] = 1\n",
    "                S[0,j] = 1-D[0,j]\n",
    "            #輸出y值，使用fuzzy重心法\n",
    "            output = np.sum(S*self.pi)/np.sum(S)\n",
    "            print(d)\n",
    "            print(S)\n",
    "            print(output)"
   ]
  },
  {
   "cell_type": "code",
   "execution_count": 4,
   "metadata": {},
   "outputs": [
    {
     "name": "stdout",
     "output_type": "stream",
     "text": [
      "[]\n",
      "[12.5, 28.5, 51.5]\n",
      "[12.5, 28.5, 51.5]\n",
      "[13.375, 29.375, 52.125]\n",
      "1\n",
      "[ 8.625  7.375 30.125]\n",
      "[[0.56875 0.63125 0.     ]]\n",
      "15.460098565100035\n",
      "[22.625  6.625 16.125]\n",
      "[[0.      0.66875 0.19375]]\n",
      "23.059266081406346\n",
      "[3.5, 3.5, 2.5, -1.75, 2.625, -1.75, 2.625, -1.25, 1.875]\n",
      "[2.25, 2.07842712474619, 1.4242346141747682, -1.125, 1.6875, -1.0392135623730958, 1.558820343559642, -0.7121173070873823, 1.068175960631077]\n"
     ]
    }
   ],
   "source": [
    "cpn = CPN()\n",
    "cpn.update(x,y)\n",
    "print(cpn.w)\n",
    "#停止迭代條件\n",
    "for i in np.arange(0,10):\n",
    "    if(len(cpn.w)==cpn.temp):\n",
    "        print(i)\n",
    "        break\n",
    "    else:\n",
    "        cpn.train(x,y)\n",
    "        print(cpn.w)\n",
    "cpn.fuzzy(X)\n",
    "print(cpn.delta_w)\n",
    "print(cpn.delta_pi)"
   ]
  },
  {
   "cell_type": "code",
   "execution_count": null,
   "metadata": {},
   "outputs": [],
   "source": []
  },
  {
   "cell_type": "code",
   "execution_count": null,
   "metadata": {},
   "outputs": [],
   "source": []
  }
 ],
 "metadata": {
  "kernelspec": {
   "display_name": "Python 3",
   "language": "python",
   "name": "python3"
  },
  "language_info": {
   "codemirror_mode": {
    "name": "ipython",
    "version": 3
   },
   "file_extension": ".py",
   "mimetype": "text/x-python",
   "name": "python",
   "nbconvert_exporter": "python",
   "pygments_lexer": "ipython3",
   "version": "3.5.5"
  }
 },
 "nbformat": 4,
 "nbformat_minor": 2
}
